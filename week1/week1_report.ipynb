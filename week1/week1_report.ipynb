{
 "cells": [
  {
   "metadata": {},
   "cell_type": "markdown",
   "source": [
    "Run piglet and solve the first 10 instances from example_8_puzzle.scen with 30s time limit using the following algorithms:\n",
    "- BFS: -f tree -s breadth -t 30 -n 10\n",
    "- DFS: -f tree -s depth -t 30 -n 10\n",
    "- UCS: -f graph -s uniform -t 30 -n 10\n",
    "\n",
    "Capture the output and analyse your findings. Some things to consider:\n",
    "- success rate (how many problems does each algorithm solve?),\n",
    "- solution quality (what’s the cost of each solution?)\n",
    "- runtime (how fast does each algorithm take to return a solution?).\n",
    "- Discuss some potential pitfalls of the runtime metric."
   ],
   "id": "55704c4c2e6cde34"
  },
  {
   "metadata": {},
   "cell_type": "markdown",
   "source": [
    "## Output\n",
    "![Alt Text](week1_output.png)\n",
    "\n"
   ],
   "id": "b5e4e6f916dac226"
  },
  {
   "metadata": {},
   "cell_type": "markdown",
   "source": [
    "### success rate (how many problems does each algorithm solve?)\n",
    "BFS: 20%\n",
    "\n",
    "DFS: 0%\n",
    "\n",
    "UCS(Uniform Cost Search): 100%\n",
    "\n",
    "### solution quality (what’s the cost of each solution?)\n",
    "BFS: cost range, (2, 5). average cost: 3.5. (success 2 problems)\n",
    "\n",
    "DFS: cost range, NA. average cost: NA (no problems success)\n",
    "\n",
    "UCS: cost range, from 2 to 24. average cost: 17.1 (success 10 problems)\n",
    "\n",
    "### runtime (how fast does each algorithm take to return a solution?).\n",
    "BFS: 24.001s (8 experiments timeout)\n",
    "\n",
    "DFS: 30.000s (all experiments timeout)\n",
    "\n",
    "UCS: 3.580s\n",
    "### Discuss some potential pitfalls of the runtime metric.\n",
    "1. Limited by 30s, we only know the algorithm spend >= 10, without knowing the actual time\n",
    "2. Runtime may influence by terrible algorithm implementation. Even it is an efficient algorithm, it may slow due to the bad implementation\n",
    "3. Short runtime may indicate trivial problems, not algorithm efficiency. For example, tree search often success on easy tasks."
   ],
   "id": "1f9057e3aa1a5156"
  },
  {
   "metadata": {},
   "cell_type": "markdown",
   "source": [
    "Activate flatland-rl venv and run the find_path.py under the example folder of the flatland repo. The window that pops up will show a train planning problem with start and goal locations printed in the terminal.\n",
    "\n",
    "- Your job is to edit find_path.py and (manually!) specify a feasible plan that brings each train to its destination.\n",
    "- Run the program again to execute your plan.\n",
    "- Capture the output from the simulator, together with your plan, and make note of the solution cost.\n",
    "- Do you think your plan could be improved? Discuss why (or why not!)."
   ],
   "id": "59cae7d7ca13560"
  },
  {
   "metadata": {},
   "cell_type": "markdown",
   "source": [
    "Open pacman folder, against baselineTeam with Bravo team and Wise team by:\n",
    "- python capture.py -r bravo.py -b berkeleyTeam.py\n",
    "- python capture.py -r wise.py -b berkeleyTeam.py\n",
    "\n",
    "Analyse the strategy difference between Bravo team and Wise team.\n",
    "\n",
    "Which is more effective? Does one dominate the other?"
   ],
   "id": "8d7b2432f1f64c4c"
  }
 ],
 "metadata": {
  "kernelspec": {
   "display_name": "Python 3",
   "language": "python",
   "name": "python3"
  },
  "language_info": {
   "codemirror_mode": {
    "name": "ipython",
    "version": 2
   },
   "file_extension": ".py",
   "mimetype": "text/x-python",
   "name": "python",
   "nbconvert_exporter": "python",
   "pygments_lexer": "ipython2",
   "version": "2.7.6"
  }
 },
 "nbformat": 4,
 "nbformat_minor": 5
}
